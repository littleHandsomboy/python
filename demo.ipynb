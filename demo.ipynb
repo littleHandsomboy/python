{
 "cells": [
  {
   "cell_type": "code",
   "execution_count": 1,
   "metadata": {},
   "outputs": [
    {
     "name": "stdout",
     "output_type": "stream",
     "text": [
      "True\n"
     ]
    }
   ],
   "source": [
    "print(1<2)"
   ]
  },
  {
   "cell_type": "markdown",
   "metadata": {},
   "source": [
    "testing bool"
   ]
  },
  {
   "cell_type": "code",
   "execution_count": 7,
   "metadata": {},
   "outputs": [
    {
     "name": "stdout",
     "output_type": "stream",
     "text": [
      "True\n",
      "False\n",
      "False\n",
      "False\n"
     ]
    }
   ],
   "source": [
    "print(bool(\"hello\"))\n",
    "print(bool(None))\n",
    "print(bool(0))\n",
    "print(bool(\"\"))"
   ]
  },
  {
   "cell_type": "markdown",
   "metadata": {},
   "source": [
    "Testing String datatype in python"
   ]
  },
  {
   "cell_type": "code",
   "execution_count": 8,
   "metadata": {},
   "outputs": [
    {
     "name": "stdout",
     "output_type": "stream",
     "text": [
      "hello\n",
      "hello2\n"
     ]
    }
   ],
   "source": [
    "str1 = \"hello\"\n",
    "print(str1)\n",
    "str2 = 'hello2'\n",
    "print(str2)"
   ]
  },
  {
   "cell_type": "markdown",
   "metadata": {},
   "source": [
    "Following is a poem:"
   ]
  },
  {
   "cell_type": "code",
   "execution_count": 10,
   "metadata": {},
   "outputs": [
    {
     "name": "stdout",
     "output_type": "stream",
     "text": [
      "sssssssssssssss\n",
      "ssssssssssssssssssssssssssssssss\n",
      "ssssssssssssssssssssssss\n",
      "sssssssssssssssssssssssss\n",
      "ssssssssssssssssssssssss\n",
      "sssssssssssssssssssssss\n"
     ]
    }
   ],
   "source": [
    "pome = '''sssssssssssssss\n",
    "ssssssssssssssssssssssssssssssss\n",
    "ssssssssssssssssssssssss\n",
    "sssssssssssssssssssssssss\n",
    "ssssssssssssssssssssssss\n",
    "sssssssssssssssssssssss'''\n",
    "print(pome)"
   ]
  },
  {
   "cell_type": "markdown",
   "metadata": {},
   "source": [
    "Characters in python Test String as array"
   ]
  },
  {
   "cell_type": "code",
   "execution_count": 18,
   "metadata": {},
   "outputs": [
    {
     "name": "stdout",
     "output_type": "stream",
     "text": [
      "H\n",
      "k\n",
      "o\n",
      "Hello\n"
     ]
    }
   ],
   "source": [
    "str3 = \"Hello hi look\"\n",
    "print(str3[0])\n",
    "print(str3[-1])\n",
    "print(str3[-3])\n",
    "print(str3[0:5])"
   ]
  },
  {
   "cell_type": "markdown",
   "metadata": {},
   "source": [
    "concatenation (Combing):"
   ]
  },
  {
   "cell_type": "code",
   "execution_count": 19,
   "metadata": {},
   "outputs": [
    {
     "name": "stdout",
     "output_type": "stream",
     "text": [
      "ABCDE\n"
     ]
    }
   ],
   "source": [
    "char1 ='A'\n",
    "char2 = 'B'\n",
    "char3 = 'C'\n",
    "char4 = 'D'\n",
    "char5 = 'E'\n",
    "str4 = char1+char2+char3+char4+char5\n",
    "print(str4)"
   ]
  },
  {
   "cell_type": "markdown",
   "metadata": {},
   "source": [
    "Character look up in a string:"
   ]
  },
  {
   "cell_type": "code",
   "execution_count": 26,
   "metadata": {},
   "outputs": [
    {
     "name": "stdout",
     "output_type": "stream",
     "text": [
      "'n'is present in str5\n"
     ]
    }
   ],
   "source": [
    "str5 = 'Anaconida'\n",
    "if 'An' in str5:\n",
    "    print(\"'n'is present in str5\")\n",
    "else:\n",
    "    print(\"Not present in\")"
   ]
  },
  {
   "cell_type": "markdown",
   "metadata": {},
   "source": [
    "repeat strings"
   ]
  },
  {
   "cell_type": "code",
   "execution_count": 30,
   "metadata": {},
   "outputs": [
    {
     "name": "stdout",
     "output_type": "stream",
     "text": [
      "yipeeee! yipeeee! yipeeee! yipeeee! yipeeee! \n"
     ]
    }
   ],
   "source": [
    "str6 = \"yipeeee! \" * 5\n",
    "print(str6)\n"
   ]
  },
  {
   "cell_type": "markdown",
   "metadata": {},
   "source": [
    "Calculating length of a string:"
   ]
  },
  {
   "cell_type": "code",
   "execution_count": 31,
   "metadata": {},
   "outputs": [
    {
     "name": "stdout",
     "output_type": "stream",
     "text": [
      "45\n"
     ]
    }
   ],
   "source": [
    "print(len(str6))"
   ]
  },
  {
   "cell_type": "markdown",
   "metadata": {},
   "source": [
    "Slicing a sting"
   ]
  },
  {
   "cell_type": "code",
   "execution_count": 33,
   "metadata": {},
   "outputs": [
    {
     "name": "stdout",
     "output_type": "stream",
     "text": [
      "yipee\n",
      "ipeeee! yipeeee! yipeeee! yipeeee! yipeeee! \n",
      "e! \n",
      "pee\n"
     ]
    }
   ],
   "source": [
    "print(str6[:5])\n",
    "print(str6[1:])\n",
    "print(str6[-3:])\n",
    "print(str6[2:5])"
   ]
  },
  {
   "cell_type": "markdown",
   "metadata": {},
   "source": [
    "For loop in a string:"
   ]
  },
  {
   "cell_type": "code",
   "execution_count": 36,
   "metadata": {},
   "outputs": [
    {
     "name": "stdout",
     "output_type": "stream",
     "text": [
      "A\n",
      "n\n",
      "a\n",
      "c\n",
      "o\n",
      "n\n",
      "i\n",
      "d\n",
      "a\n"
     ]
    }
   ],
   "source": [
    "for x in str5:\n",
    "    print(x)"
   ]
  },
  {
   "cell_type": "markdown",
   "metadata": {},
   "source": [
    "Substring Lookup"
   ]
  },
  {
   "cell_type": "code",
   "execution_count": 40,
   "metadata": {},
   "outputs": [
    {
     "name": "stdout",
     "output_type": "stream",
     "text": [
      "True\n",
      "False\n",
      "False\n"
     ]
    }
   ],
   "source": [
    "print('ee' in str6)\n",
    "print('ee' not in str6)\n",
    "print('eeeww' in str6)"
   ]
  },
  {
   "cell_type": "markdown",
   "metadata": {},
   "source": [
    "String formatting:"
   ]
  },
  {
   "cell_type": "code",
   "execution_count": 49,
   "metadata": {},
   "outputs": [
    {
     "name": "stdout",
     "output_type": "stream",
     "text": [
      "Aronld40\n",
      "Your name is Aronld and your age is 40\n",
      "Aronld is 40 years old \n",
      "Your name is Aronld and your age is 88\n"
     ]
    }
   ],
   "source": [
    "name = \"Aronld\"\n",
    "age = '40'\n",
    "age2 = 88\n",
    "detial = name + age\n",
    "print(detial)\n",
    "print(f\"Your name is {name} and your age is {age}\")\n",
    "print(\"{} is {} years old \".format(name,age))\n",
    "print(\"Your name is %s and your age is %d\" %(name,age2))"
   ]
  },
  {
   "cell_type": "markdown",
   "metadata": {},
   "source": [
    "String methods in python "
   ]
  },
  {
   "cell_type": "code",
   "execution_count": 68,
   "metadata": {},
   "outputs": [
    {
     "name": "stdout",
     "output_type": "stream",
     "text": [
      "PYTHON\n",
      "python\n",
      "Apples, apples , apples , everywhere.\n",
      "   Apples, orangess , orangess , everywhere.\n",
      "['   Apples', ' apples ', ' apples ', ' everywhere.']\n",
      "2\n",
      "1\n"
     ]
    }
   ],
   "source": [
    "str1 = \"Python\"\n",
    "str2 = \"   Apples, apples , apples , everywhere.\"\n",
    "print(str1.upper())\n",
    "print(str1.lower())\n",
    "print(str2.strip())\n",
    "print(str2.replace(\"apple\",\"oranges\"))\n",
    "print(str2.split(\",\"))\n",
    "print(str2.count(\"apples\"))\n",
    "print(str2.count(\"apples\",4,25))"
   ]
  },
  {
   "cell_type": "code",
   "execution_count": null,
   "metadata": {},
   "outputs": [],
   "source": []
  }
 ],
 "metadata": {
  "kernelspec": {
   "display_name": "env",
   "language": "python",
   "name": "python3"
  },
  "language_info": {
   "codemirror_mode": {
    "name": "ipython",
    "version": 3
   },
   "file_extension": ".py",
   "mimetype": "text/x-python",
   "name": "python",
   "nbconvert_exporter": "python",
   "pygments_lexer": "ipython3",
   "version": "3.10.4"
  }
 },
 "nbformat": 4,
 "nbformat_minor": 2
}
